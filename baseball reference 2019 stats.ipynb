{
 "cells": [
  {
   "cell_type": "code",
   "execution_count": null,
   "metadata": {},
   "outputs": [],
   "source": [
    "from bs4 import BeautifulSoup as bs\n",
    "import pandas as pd\n",
    "import re #Regular Expressions\n",
    "import requests"
   ]
  },
  {
   "cell_type": "code",
   "execution_count": null,
   "metadata": {},
   "outputs": [],
   "source": [
    "pd.set_option('display.max_columns', None)\n",
    "pd.set_option('display.max_rows', None)"
   ]
  },
  {
   "cell_type": "code",
   "execution_count": null,
   "metadata": {},
   "outputs": [],
   "source": [
    "#seeting up connection\n",
    "url_br = 'https://www.baseball-reference.com/leagues/majors/2019.shtml' \n",
    "page = requests.get(url_br)\n",
    "soup = bs(page.content, \"html.parser\")\n",
    "\n",
    "#finding table\n",
    "br_stat_table = soup.find('table', id='teams_standard_batting')\n",
    "br_stat_table"
   ]
  },
  {
   "cell_type": "code",
   "execution_count": null,
   "metadata": {},
   "outputs": [],
   "source": [
    "#finding all data rows\n",
    "datarows = soup.find_all('td', class_ = 'right')\n",
    "datarows\n",
    "\n",
    "team_stat_empty = []\n",
    "for team in datarows:\n",
    "    team_stat_empty.append(team.text.strip())\n",
    "\n",
    "print(team_stat_empty)"
   ]
  },
  {
   "cell_type": "code",
   "execution_count": null,
   "metadata": {},
   "outputs": [],
   "source": [
    "#Breaking the full team_stat_empty into sub lists\n",
    "N = 28\n",
    "subList = [team_stat_empty[n:n+N] for n in range(0, len(team_stat_empty), N)]\n",
    "\n",
    "subList\n",
    "#len(subList)\n",
    "\n",
    "#setting up sublist df\n",
    "team_stat_df = pd.DataFrame(subList)\n",
    "team_stat_df"
   ]
  },
  {
   "cell_type": "code",
   "execution_count": null,
   "metadata": {},
   "outputs": [],
   "source": [
    "#teams\n",
    "mlb_teams = br_stat_table.find_all('a')\n",
    "mlb_teams"
   ]
  },
  {
   "cell_type": "code",
   "execution_count": null,
   "metadata": {},
   "outputs": [],
   "source": [
    "mlb_teams_df = pd.DataFrame(mlb_teams)\n",
    "mlb_teams_df"
   ]
  },
  {
   "cell_type": "code",
   "execution_count": null,
   "metadata": {},
   "outputs": [],
   "source": [
    "mlb_teams_stat_df = pd.concat([mlb_teams_df,team_stat_df],axis = 1)\n",
    "mlb_teams_stat_df"
   ]
  },
  {
   "cell_type": "code",
   "execution_count": null,
   "metadata": {},
   "outputs": [],
   "source": [
    "#find all headers\n",
    "header_empty = []\n",
    "\n",
    "headers = br_stat_table.find_all('th')\n",
    "for header in headers:\n",
    "    if header.get('aria-label') != None:\n",
    "        print(header.get('aria-label'))\n",
    "        header_empty.append((header.get('aria-label')))"
   ]
  },
  {
   "cell_type": "code",
   "execution_count": null,
   "metadata": {},
   "outputs": [],
   "source": [
    "#only need headers one for each \n",
    "from collections import OrderedDict\n",
    " \n",
    "new_header = list(OrderedDict.fromkeys(header_empty))\n",
    "print(new_header)"
   ]
  },
  {
   "cell_type": "code",
   "execution_count": null,
   "metadata": {},
   "outputs": [],
   "source": [
    "mlb_teams_stat_df.columns = new_header\n",
    "mlb_teams_stat_df"
   ]
  },
  {
   "cell_type": "code",
   "execution_count": null,
   "metadata": {},
   "outputs": [],
   "source": [
    "mlb_reg2019_df = pd.DataFrame(mlb_teams_stat_df)\n",
    "mlb_reg2019_df"
   ]
  },
  {
   "cell_type": "code",
   "execution_count": null,
   "metadata": {},
   "outputs": [],
   "source": [
    "#update NaN values\n",
    "#dataframe.at[index,'column-name']='new value'\n",
    "mlb_reg2019_df.at[30,'Tm'] = 'League Average'"
   ]
  },
  {
   "cell_type": "code",
   "execution_count": null,
   "metadata": {},
   "outputs": [],
   "source": [
    "mlb_reg2019_df.at[31,'Tm'] = 'Total/Average'\n",
    "mlb_reg2019_df"
   ]
  },
  {
   "cell_type": "code",
   "execution_count": null,
   "metadata": {},
   "outputs": [],
   "source": [
    "#convert data types\n",
    "mlb_reg2019_df['#Bat'] =mlb_reg2019_df['#Bat'].astype(int)\n",
    "mlb_reg2019_df['BatAge'] =mlb_reg2019_df['BatAge'].astype(float)\n",
    "mlb_reg2019_df['Runs Scored/Game'] =mlb_reg2019_df['Runs Scored/Game'].astype(float)\n",
    "mlb_reg2019_df['Games Played'] =mlb_reg2019_df['Games Played'].astype(int)\n",
    "mlb_reg2019_df['Plate Appearances'] =mlb_reg2019_df['Plate Appearances'].astype(int)\n",
    "mlb_reg2019_df['At Bats'] =mlb_reg2019_df['At Bats'].astype(int)\n",
    "mlb_reg2021_df['Runs Scored'] =mlb_reg2019_df['Runs Scored'].astype(int)\n",
    "mlb_reg2019_df['Hits'] =mlb_reg2019_df['Hits'].astype(int)\n",
    "mlb_reg2019_df['Doubles'] =mlb_reg2019_df['Doubles'].astype(int)\n",
    "mlb_reg2019_df['Triples'] =mlb_reg2019_df['Triples'].astype(int)\n",
    "mlb_reg2019_df['Home Runs'] =mlb_reg2019_df['Home Runs'].astype(int)\n",
    "mlb_reg2019_df['Hits'] =mlb_reg2019_df['Hits'].astype(int)\n",
    "mlb_reg2019_df['Runs Batted In'] =mlb_reg2019_df['Runs Batted In'].astype(int)\n",
    "mlb_reg2019_df['Stolen Bases'] =mlb_reg2019_df['Stolen Bases'].astype(int)\n",
    "mlb_reg2019_df['Caught Stealing'] =mlb_reg2019_df['Caught Stealing'].astype(int)\n",
    "mlb_reg2019_df['Bases on Balls'] =mlb_reg2019_df['Bases on Balls'].astype(int)\n",
    "mlb_reg2019_df['Strikeouts'] =mlb_reg2019_df['Strikeouts'].astype(int)\n",
    "mlb_reg2019_df['Batting Average'] =mlb_reg2019_df['Batting Average'].astype(float)\n",
    "mlb_reg2019_df['On-Base%'] =mlb_reg2019_df['On-Base%'].astype(float)\n",
    "mlb_reg2019_df['Slugging %'] =mlb_reg2019_df['Slugging %'].astype(float)\n",
    "mlb_reg2019_df['On-Base Plus Slugging'] =mlb_reg2019_df['On-Base Plus Slugging'].astype(float)\n",
    "mlb_reg2019_df['Adjusted OPS+'] =mlb_reg2019_df['Adjusted OPS+'].astype(int)\n",
    "mlb_reg2019_df['Total Bases'] =mlb_reg2019_df['Total Bases'].astype(int)\n",
    "mlb_reg2019_df['Double Plays Grounded Into'] =mlb_reg2019_df['Double Plays Grounded Into'].astype(int)\n",
    "mlb_reg2019_df['Hit By Pitch'] =mlb_reg2019_df['Hit By Pitch'].astype(int)\n",
    "mlb_reg2019_df['Sacrifice Hits'] =mlb_reg2019_df['Sacrifice Hits'].astype(int)\n",
    "mlb_reg2019_df['Sacrifice Flies'] =mlb_reg2019_df['Sacrifice Flies'].astype(int)\n",
    "mlb_reg2019_df['Intentional Bases on Balls'] =mlb_reg2019_df['Intentional Bases on Balls'].astype(int)\n",
    "mlb_reg2019_df['Runners Left on Base'] =mlb_reg2019_df['Runners Left on Base'].astype(int)"
   ]
  },
  {
   "cell_type": "code",
   "execution_count": null,
   "metadata": {},
   "outputs": [],
   "source": [
    "mlb_reg2019_df"
   ]
  }
 ],
 "metadata": {
  "kernelspec": {
   "display_name": "Python 3",
   "language": "python",
   "name": "python3"
  },
  "language_info": {
   "codemirror_mode": {
    "name": "ipython",
    "version": 3
   },
   "file_extension": ".py",
   "mimetype": "text/x-python",
   "name": "python",
   "nbconvert_exporter": "python",
   "pygments_lexer": "ipython3",
   "version": "3.8.5"
  }
 },
 "nbformat": 4,
 "nbformat_minor": 4
}
